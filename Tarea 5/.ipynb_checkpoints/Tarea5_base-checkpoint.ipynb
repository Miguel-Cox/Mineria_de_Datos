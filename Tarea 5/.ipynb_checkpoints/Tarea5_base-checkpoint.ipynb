{
 "cells": [
  {
   "cell_type": "markdown",
   "id": "vietnamese-nirvana",
   "metadata": {},
   "source": [
    "### Lo primero que haremos sera limpiar nuestro dataframe y asignarle la columna \"Generos\" con valores 0 o 1"
   ]
  },
  {
   "cell_type": "code",
   "execution_count": 48,
   "id": "guilty-gibson",
   "metadata": {},
   "outputs": [],
   "source": [
    "import pandas as pd\n",
    "\n",
    "intervenciones = pd.read_csv('intervenciones.csv')\n",
    "constituyentes = pd.read_csv('leg_data_party.csv',encoding='ISO-8859-1')\n",
    "intervenciones.dropna(subset=['Texto'], inplace=True)"
   ]
  },
  {
   "cell_type": "code",
   "execution_count": 49,
   "id": "average-rhythm",
   "metadata": {},
   "outputs": [
    {
     "name": "stdout",
     "output_type": "stream",
     "text": [
      "listo\n"
     ]
    }
   ],
   "source": [
    "textos = []\n",
    "generos = []\n",
    "rows = []\n",
    "for o in range (0, len(intervenciones)):\n",
    "    rows.append(o)\n",
    "for i in range(0,len(intervenciones)):\n",
    "    intervencion_orador = intervenciones.iloc[i].Orador\n",
    "    for j in range(0, len(constituyentes)):\n",
    "        constituyente = constituyentes.iloc[j]\n",
    "        if constituyente.nombres_cc == intervencion_orador:\n",
    "            textos.append(intervenciones.iloc[i].Texto)\n",
    "            rows.remove(i)\n",
    "            if constituyente.genero == 'MASCULINO':\n",
    "                generos.append(0)\n",
    "            else:\n",
    "                generos.append(1)\n",
    "print(\"listo\")"
   ]
  },
  {
   "cell_type": "code",
   "execution_count": 50,
   "id": "breeding-victory",
   "metadata": {},
   "outputs": [],
   "source": [
    "for u in rows:\n",
    "    intervenciones.drop(u, inplace = True)\n",
    "    \n",
    "intervenciones[\"Generos\"] = generos"
   ]
  },
  {
   "cell_type": "code",
   "execution_count": 51,
   "id": "iraqi-textbook",
   "metadata": {},
   "outputs": [
    {
     "data": {
      "text/html": [
       "<div>\n",
       "<style scoped>\n",
       "    .dataframe tbody tr th:only-of-type {\n",
       "        vertical-align: middle;\n",
       "    }\n",
       "\n",
       "    .dataframe tbody tr th {\n",
       "        vertical-align: top;\n",
       "    }\n",
       "\n",
       "    .dataframe thead th {\n",
       "        text-align: right;\n",
       "    }\n",
       "</style>\n",
       "<table border=\"1\" class=\"dataframe\">\n",
       "  <thead>\n",
       "    <tr style=\"text-align: right;\">\n",
       "      <th></th>\n",
       "      <th>Orador</th>\n",
       "      <th>Texto</th>\n",
       "      <th>Generos</th>\n",
       "    </tr>\n",
       "  </thead>\n",
       "  <tbody>\n",
       "    <tr>\n",
       "      <th>3</th>\n",
       "      <td>jurgensen, harry</td>\n",
       "      <td>muchas gracias saludo a la señora presidenta ...</td>\n",
       "      <td>0</td>\n",
       "    </tr>\n",
       "    <tr>\n",
       "      <th>4</th>\n",
       "      <td>stingo, daniel</td>\n",
       "      <td>quiero decir que voy a votar en general la pr...</td>\n",
       "      <td>0</td>\n",
       "    </tr>\n",
       "    <tr>\n",
       "      <th>5</th>\n",
       "      <td>roa, giovanna</td>\n",
       "      <td>muchas gracias buenas tardes a todos todas y ...</td>\n",
       "      <td>1</td>\n",
       "    </tr>\n",
       "    <tr>\n",
       "      <th>6</th>\n",
       "      <td>serey, mariela</td>\n",
       "      <td>por medio de la educación lograremos legitima...</td>\n",
       "      <td>1</td>\n",
       "    </tr>\n",
       "    <tr>\n",
       "      <th>7</th>\n",
       "      <td>delgado, aurora</td>\n",
       "      <td>gracias e ignacio un saludo a todas a todas y...</td>\n",
       "      <td>1</td>\n",
       "    </tr>\n",
       "    <tr>\n",
       "      <th>...</th>\n",
       "      <td>...</td>\n",
       "      <td>...</td>\n",
       "      <td>...</td>\n",
       "    </tr>\n",
       "    <tr>\n",
       "      <th>1788</th>\n",
       "      <td>rivera, maría magdalena</td>\n",
       "      <td>bueno estar de todas y todos gracias por la p...</td>\n",
       "      <td>1</td>\n",
       "    </tr>\n",
       "    <tr>\n",
       "      <th>1789</th>\n",
       "      <td>rivera, maría magdalena</td>\n",
       "      <td>muchas gracias buenas tardes a todas y todos ...</td>\n",
       "      <td>1</td>\n",
       "    </tr>\n",
       "    <tr>\n",
       "      <th>1790</th>\n",
       "      <td>rivera, maría magdalena</td>\n",
       "      <td>hablando de profundizar la democracia lo prim...</td>\n",
       "      <td>1</td>\n",
       "    </tr>\n",
       "    <tr>\n",
       "      <th>1791</th>\n",
       "      <td>rivera, maría magdalena</td>\n",
       "      <td>se ofrece la palabra respecto de la indicació...</td>\n",
       "      <td>1</td>\n",
       "    </tr>\n",
       "    <tr>\n",
       "      <th>1792</th>\n",
       "      <td>rivera, maría magdalena</td>\n",
       "      <td>buenos días a todas a todos compañeras y comp...</td>\n",
       "      <td>1</td>\n",
       "    </tr>\n",
       "  </tbody>\n",
       "</table>\n",
       "<p>1708 rows × 3 columns</p>\n",
       "</div>"
      ],
      "text/plain": [
       "                       Orador  \\\n",
       "3            jurgensen, harry   \n",
       "4              stingo, daniel   \n",
       "5               roa, giovanna   \n",
       "6              serey, mariela   \n",
       "7             delgado, aurora   \n",
       "...                       ...   \n",
       "1788  rivera, maría magdalena   \n",
       "1789  rivera, maría magdalena   \n",
       "1790  rivera, maría magdalena   \n",
       "1791  rivera, maría magdalena   \n",
       "1792  rivera, maría magdalena   \n",
       "\n",
       "                                                  Texto  Generos  \n",
       "3      muchas gracias saludo a la señora presidenta ...        0  \n",
       "4      quiero decir que voy a votar en general la pr...        0  \n",
       "5      muchas gracias buenas tardes a todos todas y ...        1  \n",
       "6      por medio de la educación lograremos legitima...        1  \n",
       "7      gracias e ignacio un saludo a todas a todas y...        1  \n",
       "...                                                 ...      ...  \n",
       "1788   bueno estar de todas y todos gracias por la p...        1  \n",
       "1789   muchas gracias buenas tardes a todas y todos ...        1  \n",
       "1790   hablando de profundizar la democracia lo prim...        1  \n",
       "1791   se ofrece la palabra respecto de la indicació...        1  \n",
       "1792   buenos días a todas a todos compañeras y comp...        1  \n",
       "\n",
       "[1708 rows x 3 columns]"
      ]
     },
     "execution_count": 51,
     "metadata": {},
     "output_type": "execute_result"
    }
   ],
   "source": [
    "intervenciones"
   ]
  },
  {
   "cell_type": "markdown",
   "id": "varied-mother",
   "metadata": {},
   "source": [
    "### Ahora que tenemos el dataframe esperado creamos la clase con sus correspondientes metodos"
   ]
  },
  {
   "cell_type": "code",
   "execution_count": 76,
   "id": "opposite-lounge",
   "metadata": {},
   "outputs": [],
   "source": [
    "from sklearn.linear_model import LogisticRegression\n",
    "from sklearn import tree\n",
    "\n",
    "clf = tree.DecisionTreeClassifier()\n",
    "log_reg = LogisticRegression()"
   ]
  },
  {
   "cell_type": "code",
   "execution_count": 107,
   "id": "former-massachusetts",
   "metadata": {},
   "outputs": [
    {
     "name": "stdout",
     "output_type": "stream",
     "text": [
      "El promedio de accuracy es de 0.6182727383268483\n",
      "El promedio de accuracy es de 0.5417801556420233\n"
     ]
    }
   ],
   "source": [
    "from sklearn.metrics import accuracy_score\n",
    "from sklearn.model_selection import train_test_split\n",
    "from sklearn.model_selection import cross_val_score\n",
    "\n",
    "\n",
    "class ClasText:\n",
    "    def __init__(self, array, generos, clasificador):\n",
    "        procesado = tfidf_vectorizer.fit_transform(array)\n",
    "        \n",
    "        self.X_train, self.X_test, self.y_train, self.y_test = train_test_split(procesado, generos, test_size=0.25, random_state=42)\n",
    "        self.array = array\n",
    "        self.generos = generos\n",
    "        self.clasificador = clasificador\n",
    "        \n",
    "        \n",
    "    def entrenar(self):\n",
    "        procesado = tfidf_vectorizer.fit_transform(self.array)\n",
    "    \n",
    "        self.clasificador.fit(self.X_train, self.y_train)\n",
    "    \n",
    "    def predecir(self):\n",
    "        pred = self.clasificador.predict(self.X_test)\n",
    "        return pred\n",
    "    \n",
    "    def accuracy(self):\n",
    "        accuracy_list = cross_val_score(self.clasificador, self.X_train, self.y_train, cv=5, scoring='accuracy')\n",
    "        suma = 0\n",
    "        for i in accuracy_list:\n",
    "            suma += i\n",
    "        \n",
    "        print(f'El promedio de accuracy es de {suma/len(accuracy_list)}')\n",
    "\n",
    "        \n",
    "logcase = ClasText(textos, generos, log_reg)\n",
    "logcase.entrenar()\n",
    "predict = logcase.predecir()\n",
    "logcase.accuracy()\n",
    "\n",
    "clfcase = ClasText(textos, generos, clf)\n",
    "clfcase.entrenar()\n",
    "predict = clfcase.predecir()\n",
    "clfcase.accuracy()\n"
   ]
  },
  {
   "cell_type": "markdown",
   "id": "collected-information",
   "metadata": {},
   "source": [
    "Podemos notar que el clasificador logistico es mas certero al momento de entrenar el modelo, esto tiene logica al tratar 2 posibles resultados (0,1), donde se puede presentar una separación de dos conjuntos principales."
   ]
  }
 ],
 "metadata": {
  "kernelspec": {
   "display_name": "Python 3",
   "language": "python",
   "name": "python3"
  },
  "language_info": {
   "codemirror_mode": {
    "name": "ipython",
    "version": 3
   },
   "file_extension": ".py",
   "mimetype": "text/x-python",
   "name": "python",
   "nbconvert_exporter": "python",
   "pygments_lexer": "ipython3",
   "version": "3.6.8"
  }
 },
 "nbformat": 4,
 "nbformat_minor": 5
}
