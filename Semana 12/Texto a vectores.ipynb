{
 "cells": [
  {
   "cell_type": "markdown",
   "id": "banned-smile",
   "metadata": {},
   "source": [
    "# Texto a vectores\n",
    "\n",
    "Antes que nada, vamos a bajar spaCy, y el modelo _es_core_news_md_. Para esto, no solo tienes que instalar la libreria spacy, sino que además bajar este modelo español, usando el comando \n",
    "> python -m spacy download es_core_news_md\n",
    "\n",
    "Una vez instalado, ya puedes correr estas líneas. "
   ]
  },
  {
   "cell_type": "code",
   "execution_count": 2,
   "id": "constitutional-terminology",
   "metadata": {},
   "outputs": [
    {
     "data": {
      "text/plain": [
       "<module 'spacy' from 'c:\\\\users\\\\migue\\\\appdata\\\\local\\\\programs\\\\python\\\\python36\\\\lib\\\\site-packages\\\\spacy\\\\__init__.py'>"
      ]
     },
     "execution_count": 2,
     "metadata": {},
     "output_type": "execute_result"
    }
   ],
   "source": [
    "import spacy\n",
    "\n",
    "# Load the spacy model that you have installed\n",
    "nlp = spacy.load('es_core_news_md')"
   ]
  },
  {
   "cell_type": "markdown",
   "id": "selective-wilson",
   "metadata": {},
   "source": [
    "Trabajemos con un texto de ejemplo. "
   ]
  },
  {
   "cell_type": "code",
   "execution_count": 73,
   "id": "impossible-conditioning",
   "metadata": {},
   "outputs": [],
   "source": [
    "texto = [\"Quizá porque mi niñez sigue jugando en tu playa\", \\\n",
    "\"Y escondido tras las cañas duerme mi primer amor\", \\\n",
    "\"Llevo tu luz y tu olor por donde quiera que vaya\", \\\n",
    "\"Y amontonado en tu arena guardo amor, juegos y penas\",\\\n",
    "\"Yo que en la piel tengo el sabor amargo del llanto eterno\", \\\n",
    "\"Que han vertido en ti cien pueblos, de Algeciras a Estambul\", \\\n",
    "\"Para que pintes de azul sus largas noches de invierno\", \\\n",
    "\"A fuerza de desventuras tu alma es profunda y oscura\", \\\n",
    "\"A tus atardeceres rojos se acostumbraron mis ojos\", \\\n",
    "\"Como el recodo al camino\", \\\n",
    "\"Soy cantor, soy embustero\", \\\n",
    "\"Me gusta el juego y el vino, tengo alma de marinero\", \\\n",
    "\"¿Qué le voy a hacer si yo nací en el Mediterráneo?\", \\\n",
    "\"Nací en el Mediterráneo\"]"
   ]
  },
  {
   "cell_type": "markdown",
   "id": "naked-trademark",
   "metadata": {},
   "source": [
    "Por defecto, spaCy tiene una función para parsear strings y transformarlos en objetos con varias funcionalidades de procesamiento de lenguaje. Veamos como funciona. "
   ]
  },
  {
   "cell_type": "code",
   "execution_count": 74,
   "id": "secondary-chance",
   "metadata": {},
   "outputs": [
    {
     "name": "stdout",
     "output_type": "stream",
     "text": [
      "Quizá quizá\n",
      "porque porque\n",
      "mi mi\n",
      "niñez niñez\n",
      "sigue seguir\n",
      "jugando jugar\n",
      "en en\n",
      "tu tu\n",
      "playa playa\n"
     ]
    }
   ],
   "source": [
    "### Palabras procesadas vienen con su lemmatización\n",
    "procesado = nlp(texto[0])\n",
    "\n",
    "for token in procesado:\n",
    "    print(token.text,token.lemma_)"
   ]
  },
  {
   "cell_type": "code",
   "execution_count": 75,
   "id": "outdoor-canada",
   "metadata": {},
   "outputs": [
    {
     "name": "stdout",
     "output_type": "stream",
     "text": [
      "niñez niñez\n",
      "jugando jugar\n",
      "playa playa\n"
     ]
    }
   ],
   "source": [
    "### Podemos saber cuando una palabra es una stop word\n",
    "procesado = nlp(texto[0])\n",
    "\n",
    "for token in procesado:\n",
    "    if token.is_stop == False:\n",
    "        print(token.text,token.lemma_)"
   ]
  },
  {
   "cell_type": "code",
   "execution_count": 76,
   "id": "seeing-pharmacology",
   "metadata": {},
   "outputs": [
    {
     "name": "stdout",
     "output_type": "stream",
     "text": [
      "Me yo\n",
      "gusta gustar\n",
      "el el\n",
      "juego juego\n",
      "y y\n",
      "el el\n",
      "vino vino\n",
      "tengo tener\n",
      "alma alma\n",
      "de de\n",
      "marinero marinero\n"
     ]
    }
   ],
   "source": [
    "### Podemos saber cuando una palabra es un símbolo de puntuación (desaparece la coma en este código)\n",
    "procesado = nlp(texto[11])\n",
    "\n",
    "for token in procesado:\n",
    "    if token.is_punct == False:\n",
    "        print(token.text,token.lemma_)"
   ]
  },
  {
   "cell_type": "markdown",
   "id": "unlimited-interval",
   "metadata": {},
   "source": [
    "## Texto a vectores TF-IDF\n",
    "\n",
    "Con formas de lematizar y extraer las puntuaciones y los stop words, podemos transformar una palabra en sus vectores tf-idf. Partimos creando una función para transformar un string, generando lemmatizaciones, y removiendo stopwords, espacios y puntuación. "
   ]
  },
  {
   "cell_type": "code",
   "execution_count": 77,
   "id": "changed-safety",
   "metadata": {},
   "outputs": [],
   "source": [
    "def spacy_tokenizer_esp(documento):\n",
    "    resultado = []\n",
    "    procesado = nlp(documento)\n",
    "    for token in procesado: \n",
    "        if (token.is_stop == False and token.is_punct == False and token.lemma_.strip()!=''):\n",
    "            resultado.append(token.lemma_)\n",
    "    return resultado\n",
    "\n"
   ]
  },
  {
   "cell_type": "code",
   "execution_count": 78,
   "id": "qualified-least",
   "metadata": {},
   "outputs": [
    {
     "data": {
      "text/plain": [
       "['niñez', 'jugar', 'playa']"
      ]
     },
     "execution_count": 78,
     "metadata": {},
     "output_type": "execute_result"
    }
   ],
   "source": [
    "spacy_tokenizer_esp(texto[0])"
   ]
  },
  {
   "cell_type": "markdown",
   "id": "final-knitting",
   "metadata": {},
   "source": [
    "Ahora vamos a crear un vectorizador (de la clase TfidfVectorizer de sklearn) pero que use nuestro tokenizador en español. "
   ]
  },
  {
   "cell_type": "code",
   "execution_count": 79,
   "id": "specialized-habitat",
   "metadata": {},
   "outputs": [],
   "source": [
    "from sklearn.feature_extraction.text import TfidfVectorizer\n",
    "\n",
    "tfidf_vectorizer = TfidfVectorizer(input = 'content', tokenizer = spacy_tokenizer_esp)"
   ]
  },
  {
   "cell_type": "code",
   "execution_count": 100,
   "id": "union-robinson",
   "metadata": {},
   "outputs": [
    {
     "data": {
      "text/plain": [
       "<14x52 sparse matrix of type '<class 'numpy.float64'>'\n",
       "\twith 63 stored elements in Compressed Sparse Row format>"
      ]
     },
     "execution_count": 100,
     "metadata": {},
     "output_type": "execute_result"
    }
   ],
   "source": [
    "procesado = tfidf_vectorizer.fit_transform(texto)\n",
    "procesado"
   ]
  },
  {
   "cell_type": "markdown",
   "id": "resistant-validity",
   "metadata": {},
   "source": [
    "Esto está comprimido, pues para datasets con un monton de documentos, casi todas las entradas van a ser cero. Pero son 14 documentos (en nuestro caso, frases) y 52 palabras. La cantidad de elementos distintos de cero son 63. Veamos esto como un dataframe, transformando a una representación densa. "
   ]
  },
  {
   "cell_type": "code",
   "execution_count": 101,
   "id": "gothic-relevance",
   "metadata": {},
   "outputs": [
    {
     "data": {
      "text/html": [
       "<div>\n",
       "<style scoped>\n",
       "    .dataframe tbody tr th:only-of-type {\n",
       "        vertical-align: middle;\n",
       "    }\n",
       "\n",
       "    .dataframe tbody tr th {\n",
       "        vertical-align: top;\n",
       "    }\n",
       "\n",
       "    .dataframe thead th {\n",
       "        text-align: right;\n",
       "    }\n",
       "</style>\n",
       "<table border=\"1\" class=\"dataframe\">\n",
       "  <thead>\n",
       "    <tr style=\"text-align: right;\">\n",
       "      <th></th>\n",
       "      <th>a</th>\n",
       "      <th>acostumbrar</th>\n",
       "      <th>algeciras</th>\n",
       "      <th>alma</th>\n",
       "      <th>amargo</th>\n",
       "      <th>amontonar</th>\n",
       "      <th>amor</th>\n",
       "      <th>arena</th>\n",
       "      <th>atardecer</th>\n",
       "      <th>azul</th>\n",
       "      <th>...</th>\n",
       "      <th>playa</th>\n",
       "      <th>profundo</th>\n",
       "      <th>pueblo</th>\n",
       "      <th>querer</th>\n",
       "      <th>recodo</th>\n",
       "      <th>rojo</th>\n",
       "      <th>sabor</th>\n",
       "      <th>verter</th>\n",
       "      <th>vino</th>\n",
       "      <th>y</th>\n",
       "    </tr>\n",
       "  </thead>\n",
       "  <tbody>\n",
       "    <tr>\n",
       "      <th>0</th>\n",
       "      <td>0.000000</td>\n",
       "      <td>0.000000</td>\n",
       "      <td>0.000000</td>\n",
       "      <td>0.000000</td>\n",
       "      <td>0.000000</td>\n",
       "      <td>0.000000</td>\n",
       "      <td>0.000000</td>\n",
       "      <td>0.000000</td>\n",
       "      <td>0.000000</td>\n",
       "      <td>0.000000</td>\n",
       "      <td>...</td>\n",
       "      <td>0.57735</td>\n",
       "      <td>0.000000</td>\n",
       "      <td>0.000000</td>\n",
       "      <td>0.000000</td>\n",
       "      <td>0.000000</td>\n",
       "      <td>0.000000</td>\n",
       "      <td>0.000000</td>\n",
       "      <td>0.000000</td>\n",
       "      <td>0.00000</td>\n",
       "      <td>0.000000</td>\n",
       "    </tr>\n",
       "    <tr>\n",
       "      <th>1</th>\n",
       "      <td>0.000000</td>\n",
       "      <td>0.000000</td>\n",
       "      <td>0.000000</td>\n",
       "      <td>0.000000</td>\n",
       "      <td>0.000000</td>\n",
       "      <td>0.000000</td>\n",
       "      <td>0.424705</td>\n",
       "      <td>0.000000</td>\n",
       "      <td>0.000000</td>\n",
       "      <td>0.000000</td>\n",
       "      <td>...</td>\n",
       "      <td>0.00000</td>\n",
       "      <td>0.000000</td>\n",
       "      <td>0.000000</td>\n",
       "      <td>0.000000</td>\n",
       "      <td>0.000000</td>\n",
       "      <td>0.000000</td>\n",
       "      <td>0.000000</td>\n",
       "      <td>0.000000</td>\n",
       "      <td>0.00000</td>\n",
       "      <td>0.311890</td>\n",
       "    </tr>\n",
       "    <tr>\n",
       "      <th>2</th>\n",
       "      <td>0.000000</td>\n",
       "      <td>0.000000</td>\n",
       "      <td>0.000000</td>\n",
       "      <td>0.000000</td>\n",
       "      <td>0.000000</td>\n",
       "      <td>0.000000</td>\n",
       "      <td>0.000000</td>\n",
       "      <td>0.000000</td>\n",
       "      <td>0.000000</td>\n",
       "      <td>0.000000</td>\n",
       "      <td>...</td>\n",
       "      <td>0.00000</td>\n",
       "      <td>0.000000</td>\n",
       "      <td>0.000000</td>\n",
       "      <td>0.476515</td>\n",
       "      <td>0.000000</td>\n",
       "      <td>0.000000</td>\n",
       "      <td>0.000000</td>\n",
       "      <td>0.000000</td>\n",
       "      <td>0.00000</td>\n",
       "      <td>0.302876</td>\n",
       "    </tr>\n",
       "    <tr>\n",
       "      <th>3</th>\n",
       "      <td>0.000000</td>\n",
       "      <td>0.000000</td>\n",
       "      <td>0.000000</td>\n",
       "      <td>0.000000</td>\n",
       "      <td>0.000000</td>\n",
       "      <td>0.368477</td>\n",
       "      <td>0.318922</td>\n",
       "      <td>0.368477</td>\n",
       "      <td>0.000000</td>\n",
       "      <td>0.000000</td>\n",
       "      <td>...</td>\n",
       "      <td>0.00000</td>\n",
       "      <td>0.000000</td>\n",
       "      <td>0.000000</td>\n",
       "      <td>0.000000</td>\n",
       "      <td>0.000000</td>\n",
       "      <td>0.000000</td>\n",
       "      <td>0.000000</td>\n",
       "      <td>0.000000</td>\n",
       "      <td>0.00000</td>\n",
       "      <td>0.468413</td>\n",
       "    </tr>\n",
       "    <tr>\n",
       "      <th>4</th>\n",
       "      <td>0.000000</td>\n",
       "      <td>0.000000</td>\n",
       "      <td>0.000000</td>\n",
       "      <td>0.000000</td>\n",
       "      <td>0.447214</td>\n",
       "      <td>0.000000</td>\n",
       "      <td>0.000000</td>\n",
       "      <td>0.000000</td>\n",
       "      <td>0.000000</td>\n",
       "      <td>0.000000</td>\n",
       "      <td>...</td>\n",
       "      <td>0.00000</td>\n",
       "      <td>0.000000</td>\n",
       "      <td>0.000000</td>\n",
       "      <td>0.000000</td>\n",
       "      <td>0.000000</td>\n",
       "      <td>0.000000</td>\n",
       "      <td>0.447214</td>\n",
       "      <td>0.000000</td>\n",
       "      <td>0.00000</td>\n",
       "      <td>0.000000</td>\n",
       "    </tr>\n",
       "    <tr>\n",
       "      <th>5</th>\n",
       "      <td>0.297228</td>\n",
       "      <td>0.000000</td>\n",
       "      <td>0.427003</td>\n",
       "      <td>0.000000</td>\n",
       "      <td>0.000000</td>\n",
       "      <td>0.000000</td>\n",
       "      <td>0.000000</td>\n",
       "      <td>0.000000</td>\n",
       "      <td>0.000000</td>\n",
       "      <td>0.000000</td>\n",
       "      <td>...</td>\n",
       "      <td>0.00000</td>\n",
       "      <td>0.000000</td>\n",
       "      <td>0.427003</td>\n",
       "      <td>0.000000</td>\n",
       "      <td>0.000000</td>\n",
       "      <td>0.000000</td>\n",
       "      <td>0.000000</td>\n",
       "      <td>0.427003</td>\n",
       "      <td>0.00000</td>\n",
       "      <td>0.000000</td>\n",
       "    </tr>\n",
       "    <tr>\n",
       "      <th>6</th>\n",
       "      <td>0.000000</td>\n",
       "      <td>0.000000</td>\n",
       "      <td>0.000000</td>\n",
       "      <td>0.000000</td>\n",
       "      <td>0.000000</td>\n",
       "      <td>0.000000</td>\n",
       "      <td>0.000000</td>\n",
       "      <td>0.000000</td>\n",
       "      <td>0.000000</td>\n",
       "      <td>0.447214</td>\n",
       "      <td>...</td>\n",
       "      <td>0.00000</td>\n",
       "      <td>0.000000</td>\n",
       "      <td>0.000000</td>\n",
       "      <td>0.000000</td>\n",
       "      <td>0.000000</td>\n",
       "      <td>0.000000</td>\n",
       "      <td>0.000000</td>\n",
       "      <td>0.000000</td>\n",
       "      <td>0.00000</td>\n",
       "      <td>0.000000</td>\n",
       "    </tr>\n",
       "    <tr>\n",
       "      <th>7</th>\n",
       "      <td>0.293164</td>\n",
       "      <td>0.000000</td>\n",
       "      <td>0.000000</td>\n",
       "      <td>0.364523</td>\n",
       "      <td>0.000000</td>\n",
       "      <td>0.000000</td>\n",
       "      <td>0.000000</td>\n",
       "      <td>0.000000</td>\n",
       "      <td>0.000000</td>\n",
       "      <td>0.000000</td>\n",
       "      <td>...</td>\n",
       "      <td>0.00000</td>\n",
       "      <td>0.421164</td>\n",
       "      <td>0.000000</td>\n",
       "      <td>0.000000</td>\n",
       "      <td>0.000000</td>\n",
       "      <td>0.000000</td>\n",
       "      <td>0.000000</td>\n",
       "      <td>0.000000</td>\n",
       "      <td>0.00000</td>\n",
       "      <td>0.267695</td>\n",
       "    </tr>\n",
       "    <tr>\n",
       "      <th>8</th>\n",
       "      <td>0.328701</td>\n",
       "      <td>0.472217</td>\n",
       "      <td>0.000000</td>\n",
       "      <td>0.000000</td>\n",
       "      <td>0.000000</td>\n",
       "      <td>0.000000</td>\n",
       "      <td>0.000000</td>\n",
       "      <td>0.000000</td>\n",
       "      <td>0.472217</td>\n",
       "      <td>0.000000</td>\n",
       "      <td>...</td>\n",
       "      <td>0.00000</td>\n",
       "      <td>0.000000</td>\n",
       "      <td>0.000000</td>\n",
       "      <td>0.000000</td>\n",
       "      <td>0.000000</td>\n",
       "      <td>0.472217</td>\n",
       "      <td>0.000000</td>\n",
       "      <td>0.000000</td>\n",
       "      <td>0.00000</td>\n",
       "      <td>0.000000</td>\n",
       "    </tr>\n",
       "    <tr>\n",
       "      <th>9</th>\n",
       "      <td>0.000000</td>\n",
       "      <td>0.000000</td>\n",
       "      <td>0.000000</td>\n",
       "      <td>0.000000</td>\n",
       "      <td>0.000000</td>\n",
       "      <td>0.000000</td>\n",
       "      <td>0.000000</td>\n",
       "      <td>0.000000</td>\n",
       "      <td>0.000000</td>\n",
       "      <td>0.000000</td>\n",
       "      <td>...</td>\n",
       "      <td>0.00000</td>\n",
       "      <td>0.000000</td>\n",
       "      <td>0.000000</td>\n",
       "      <td>0.000000</td>\n",
       "      <td>0.707107</td>\n",
       "      <td>0.000000</td>\n",
       "      <td>0.000000</td>\n",
       "      <td>0.000000</td>\n",
       "      <td>0.00000</td>\n",
       "      <td>0.000000</td>\n",
       "    </tr>\n",
       "    <tr>\n",
       "      <th>10</th>\n",
       "      <td>0.000000</td>\n",
       "      <td>0.000000</td>\n",
       "      <td>0.000000</td>\n",
       "      <td>0.000000</td>\n",
       "      <td>0.000000</td>\n",
       "      <td>0.000000</td>\n",
       "      <td>0.000000</td>\n",
       "      <td>0.000000</td>\n",
       "      <td>0.000000</td>\n",
       "      <td>0.000000</td>\n",
       "      <td>...</td>\n",
       "      <td>0.00000</td>\n",
       "      <td>0.000000</td>\n",
       "      <td>0.000000</td>\n",
       "      <td>0.000000</td>\n",
       "      <td>0.000000</td>\n",
       "      <td>0.000000</td>\n",
       "      <td>0.000000</td>\n",
       "      <td>0.000000</td>\n",
       "      <td>0.00000</td>\n",
       "      <td>0.000000</td>\n",
       "    </tr>\n",
       "    <tr>\n",
       "      <th>11</th>\n",
       "      <td>0.000000</td>\n",
       "      <td>0.000000</td>\n",
       "      <td>0.000000</td>\n",
       "      <td>0.381276</td>\n",
       "      <td>0.000000</td>\n",
       "      <td>0.000000</td>\n",
       "      <td>0.000000</td>\n",
       "      <td>0.000000</td>\n",
       "      <td>0.000000</td>\n",
       "      <td>0.000000</td>\n",
       "      <td>...</td>\n",
       "      <td>0.00000</td>\n",
       "      <td>0.000000</td>\n",
       "      <td>0.000000</td>\n",
       "      <td>0.000000</td>\n",
       "      <td>0.000000</td>\n",
       "      <td>0.000000</td>\n",
       "      <td>0.000000</td>\n",
       "      <td>0.000000</td>\n",
       "      <td>0.44052</td>\n",
       "      <td>0.279997</td>\n",
       "    </tr>\n",
       "    <tr>\n",
       "      <th>12</th>\n",
       "      <td>0.494339</td>\n",
       "      <td>0.000000</td>\n",
       "      <td>0.000000</td>\n",
       "      <td>0.000000</td>\n",
       "      <td>0.000000</td>\n",
       "      <td>0.000000</td>\n",
       "      <td>0.000000</td>\n",
       "      <td>0.000000</td>\n",
       "      <td>0.000000</td>\n",
       "      <td>0.000000</td>\n",
       "      <td>...</td>\n",
       "      <td>0.00000</td>\n",
       "      <td>0.000000</td>\n",
       "      <td>0.000000</td>\n",
       "      <td>0.000000</td>\n",
       "      <td>0.000000</td>\n",
       "      <td>0.000000</td>\n",
       "      <td>0.000000</td>\n",
       "      <td>0.000000</td>\n",
       "      <td>0.00000</td>\n",
       "      <td>0.000000</td>\n",
       "    </tr>\n",
       "    <tr>\n",
       "      <th>13</th>\n",
       "      <td>0.000000</td>\n",
       "      <td>0.000000</td>\n",
       "      <td>0.000000</td>\n",
       "      <td>0.000000</td>\n",
       "      <td>0.000000</td>\n",
       "      <td>0.000000</td>\n",
       "      <td>0.000000</td>\n",
       "      <td>0.000000</td>\n",
       "      <td>0.000000</td>\n",
       "      <td>0.000000</td>\n",
       "      <td>...</td>\n",
       "      <td>0.00000</td>\n",
       "      <td>0.000000</td>\n",
       "      <td>0.000000</td>\n",
       "      <td>0.000000</td>\n",
       "      <td>0.000000</td>\n",
       "      <td>0.000000</td>\n",
       "      <td>0.000000</td>\n",
       "      <td>0.000000</td>\n",
       "      <td>0.00000</td>\n",
       "      <td>0.000000</td>\n",
       "    </tr>\n",
       "  </tbody>\n",
       "</table>\n",
       "<p>14 rows × 52 columns</p>\n",
       "</div>"
      ],
      "text/plain": [
       "           a  acostumbrar  algeciras      alma    amargo  amontonar      amor  \\\n",
       "0   0.000000     0.000000   0.000000  0.000000  0.000000   0.000000  0.000000   \n",
       "1   0.000000     0.000000   0.000000  0.000000  0.000000   0.000000  0.424705   \n",
       "2   0.000000     0.000000   0.000000  0.000000  0.000000   0.000000  0.000000   \n",
       "3   0.000000     0.000000   0.000000  0.000000  0.000000   0.368477  0.318922   \n",
       "4   0.000000     0.000000   0.000000  0.000000  0.447214   0.000000  0.000000   \n",
       "5   0.297228     0.000000   0.427003  0.000000  0.000000   0.000000  0.000000   \n",
       "6   0.000000     0.000000   0.000000  0.000000  0.000000   0.000000  0.000000   \n",
       "7   0.293164     0.000000   0.000000  0.364523  0.000000   0.000000  0.000000   \n",
       "8   0.328701     0.472217   0.000000  0.000000  0.000000   0.000000  0.000000   \n",
       "9   0.000000     0.000000   0.000000  0.000000  0.000000   0.000000  0.000000   \n",
       "10  0.000000     0.000000   0.000000  0.000000  0.000000   0.000000  0.000000   \n",
       "11  0.000000     0.000000   0.000000  0.381276  0.000000   0.000000  0.000000   \n",
       "12  0.494339     0.000000   0.000000  0.000000  0.000000   0.000000  0.000000   \n",
       "13  0.000000     0.000000   0.000000  0.000000  0.000000   0.000000  0.000000   \n",
       "\n",
       "       arena  atardecer      azul  ...    playa  profundo    pueblo    querer  \\\n",
       "0   0.000000   0.000000  0.000000  ...  0.57735  0.000000  0.000000  0.000000   \n",
       "1   0.000000   0.000000  0.000000  ...  0.00000  0.000000  0.000000  0.000000   \n",
       "2   0.000000   0.000000  0.000000  ...  0.00000  0.000000  0.000000  0.476515   \n",
       "3   0.368477   0.000000  0.000000  ...  0.00000  0.000000  0.000000  0.000000   \n",
       "4   0.000000   0.000000  0.000000  ...  0.00000  0.000000  0.000000  0.000000   \n",
       "5   0.000000   0.000000  0.000000  ...  0.00000  0.000000  0.427003  0.000000   \n",
       "6   0.000000   0.000000  0.447214  ...  0.00000  0.000000  0.000000  0.000000   \n",
       "7   0.000000   0.000000  0.000000  ...  0.00000  0.421164  0.000000  0.000000   \n",
       "8   0.000000   0.472217  0.000000  ...  0.00000  0.000000  0.000000  0.000000   \n",
       "9   0.000000   0.000000  0.000000  ...  0.00000  0.000000  0.000000  0.000000   \n",
       "10  0.000000   0.000000  0.000000  ...  0.00000  0.000000  0.000000  0.000000   \n",
       "11  0.000000   0.000000  0.000000  ...  0.00000  0.000000  0.000000  0.000000   \n",
       "12  0.000000   0.000000  0.000000  ...  0.00000  0.000000  0.000000  0.000000   \n",
       "13  0.000000   0.000000  0.000000  ...  0.00000  0.000000  0.000000  0.000000   \n",
       "\n",
       "      recodo      rojo     sabor    verter     vino         y  \n",
       "0   0.000000  0.000000  0.000000  0.000000  0.00000  0.000000  \n",
       "1   0.000000  0.000000  0.000000  0.000000  0.00000  0.311890  \n",
       "2   0.000000  0.000000  0.000000  0.000000  0.00000  0.302876  \n",
       "3   0.000000  0.000000  0.000000  0.000000  0.00000  0.468413  \n",
       "4   0.000000  0.000000  0.447214  0.000000  0.00000  0.000000  \n",
       "5   0.000000  0.000000  0.000000  0.427003  0.00000  0.000000  \n",
       "6   0.000000  0.000000  0.000000  0.000000  0.00000  0.000000  \n",
       "7   0.000000  0.000000  0.000000  0.000000  0.00000  0.267695  \n",
       "8   0.000000  0.472217  0.000000  0.000000  0.00000  0.000000  \n",
       "9   0.707107  0.000000  0.000000  0.000000  0.00000  0.000000  \n",
       "10  0.000000  0.000000  0.000000  0.000000  0.00000  0.000000  \n",
       "11  0.000000  0.000000  0.000000  0.000000  0.44052  0.279997  \n",
       "12  0.000000  0.000000  0.000000  0.000000  0.00000  0.000000  \n",
       "13  0.000000  0.000000  0.000000  0.000000  0.00000  0.000000  \n",
       "\n",
       "[14 rows x 52 columns]"
      ]
     },
     "execution_count": 101,
     "metadata": {},
     "output_type": "execute_result"
    }
   ],
   "source": [
    "import pandas as pd\n",
    "\n",
    "denso = procesado.todense()\n",
    "denso = denso.tolist()\n",
    "tfidf_denso = pd.DataFrame(\n",
    "    denso,columns=tfidf_vectorizer.get_feature_names())\n",
    "\n",
    "tfidf_denso\n"
   ]
  },
  {
   "cell_type": "markdown",
   "id": "assured-holocaust",
   "metadata": {},
   "source": [
    "Ahora vamos a graficar esto. ¿Te hace sentido como quedan las palabras?"
   ]
  },
  {
   "cell_type": "code",
   "execution_count": 97,
   "id": "central-typing",
   "metadata": {},
   "outputs": [
    {
     "data": {
      "text/plain": [
       "array([[-0.10654135, -0.31902143],\n",
       "       [-0.29576635,  0.4130451 ],\n",
       "       [-0.24266354,  0.23120292],\n",
       "       [-0.32203493,  0.47578143],\n",
       "       [-0.10654135, -0.31902143],\n",
       "       [ 0.04600627, -0.22692683],\n",
       "       [-0.10654135, -0.31902143],\n",
       "       [-0.11843997,  0.25932188],\n",
       "       [ 0.05962967, -0.21382869],\n",
       "       [-0.10654135, -0.31902143],\n",
       "       [-0.10654135, -0.31902143],\n",
       "       [-0.25456552,  0.30386197],\n",
       "       [ 0.83005228,  0.16303698],\n",
       "       [ 0.83048883,  0.18961239]])"
      ]
     },
     "execution_count": 97,
     "metadata": {},
     "output_type": "execute_result"
    }
   ],
   "source": [
    "from sklearn.decomposition import PCA\n",
    "\n",
    "pca = PCA(n_components=2)\n",
    "graficar = pca.fit_transform(tfidf_denso)\n",
    "\n",
    "graficar"
   ]
  },
  {
   "cell_type": "code",
   "execution_count": 85,
   "id": "resident-coupon",
   "metadata": {},
   "outputs": [
    {
     "data": {
      "text/html": [
       "<div>\n",
       "<style scoped>\n",
       "    .dataframe tbody tr th:only-of-type {\n",
       "        vertical-align: middle;\n",
       "    }\n",
       "\n",
       "    .dataframe tbody tr th {\n",
       "        vertical-align: top;\n",
       "    }\n",
       "\n",
       "    .dataframe thead th {\n",
       "        text-align: right;\n",
       "    }\n",
       "</style>\n",
       "<table border=\"1\" class=\"dataframe\">\n",
       "  <thead>\n",
       "    <tr style=\"text-align: right;\">\n",
       "      <th></th>\n",
       "      <th>d1</th>\n",
       "      <th>d2</th>\n",
       "      <th>num_frase</th>\n",
       "    </tr>\n",
       "  </thead>\n",
       "  <tbody>\n",
       "    <tr>\n",
       "      <th>0</th>\n",
       "      <td>-0.106541</td>\n",
       "      <td>-0.319021</td>\n",
       "      <td>0</td>\n",
       "    </tr>\n",
       "    <tr>\n",
       "      <th>1</th>\n",
       "      <td>-0.295766</td>\n",
       "      <td>0.413045</td>\n",
       "      <td>1</td>\n",
       "    </tr>\n",
       "    <tr>\n",
       "      <th>2</th>\n",
       "      <td>-0.242664</td>\n",
       "      <td>0.231203</td>\n",
       "      <td>2</td>\n",
       "    </tr>\n",
       "    <tr>\n",
       "      <th>3</th>\n",
       "      <td>-0.322035</td>\n",
       "      <td>0.475781</td>\n",
       "      <td>3</td>\n",
       "    </tr>\n",
       "    <tr>\n",
       "      <th>4</th>\n",
       "      <td>-0.106541</td>\n",
       "      <td>-0.319021</td>\n",
       "      <td>4</td>\n",
       "    </tr>\n",
       "    <tr>\n",
       "      <th>5</th>\n",
       "      <td>0.046006</td>\n",
       "      <td>-0.226927</td>\n",
       "      <td>5</td>\n",
       "    </tr>\n",
       "    <tr>\n",
       "      <th>6</th>\n",
       "      <td>-0.106541</td>\n",
       "      <td>-0.319021</td>\n",
       "      <td>6</td>\n",
       "    </tr>\n",
       "    <tr>\n",
       "      <th>7</th>\n",
       "      <td>-0.118440</td>\n",
       "      <td>0.259322</td>\n",
       "      <td>7</td>\n",
       "    </tr>\n",
       "    <tr>\n",
       "      <th>8</th>\n",
       "      <td>0.059630</td>\n",
       "      <td>-0.213829</td>\n",
       "      <td>8</td>\n",
       "    </tr>\n",
       "    <tr>\n",
       "      <th>9</th>\n",
       "      <td>-0.106541</td>\n",
       "      <td>-0.319021</td>\n",
       "      <td>9</td>\n",
       "    </tr>\n",
       "    <tr>\n",
       "      <th>10</th>\n",
       "      <td>-0.106541</td>\n",
       "      <td>-0.319021</td>\n",
       "      <td>10</td>\n",
       "    </tr>\n",
       "    <tr>\n",
       "      <th>11</th>\n",
       "      <td>-0.254566</td>\n",
       "      <td>0.303862</td>\n",
       "      <td>11</td>\n",
       "    </tr>\n",
       "    <tr>\n",
       "      <th>12</th>\n",
       "      <td>0.830052</td>\n",
       "      <td>0.163037</td>\n",
       "      <td>12</td>\n",
       "    </tr>\n",
       "    <tr>\n",
       "      <th>13</th>\n",
       "      <td>0.830489</td>\n",
       "      <td>0.189612</td>\n",
       "      <td>13</td>\n",
       "    </tr>\n",
       "  </tbody>\n",
       "</table>\n",
       "</div>"
      ],
      "text/plain": [
       "          d1        d2  num_frase\n",
       "0  -0.106541 -0.319021          0\n",
       "1  -0.295766  0.413045          1\n",
       "2  -0.242664  0.231203          2\n",
       "3  -0.322035  0.475781          3\n",
       "4  -0.106541 -0.319021          4\n",
       "5   0.046006 -0.226927          5\n",
       "6  -0.106541 -0.319021          6\n",
       "7  -0.118440  0.259322          7\n",
       "8   0.059630 -0.213829          8\n",
       "9  -0.106541 -0.319021          9\n",
       "10 -0.106541 -0.319021         10\n",
       "11 -0.254566  0.303862         11\n",
       "12  0.830052  0.163037         12\n",
       "13  0.830489  0.189612         13"
      ]
     },
     "execution_count": 85,
     "metadata": {},
     "output_type": "execute_result"
    }
   ],
   "source": [
    "df_graficar = pd.DataFrame(graficar,columns = ['d1','d2']) \n",
    "df_graficar[\"num_frase\"] = range(14)\n",
    "df_graficar"
   ]
  },
  {
   "cell_type": "code",
   "execution_count": 86,
   "id": "wicked-bulgaria",
   "metadata": {},
   "outputs": [
    {
     "data": {
      "text/plain": [
       "<AxesSubplot:xlabel='d1', ylabel='d2'>"
      ]
     },
     "execution_count": 86,
     "metadata": {},
     "output_type": "execute_result"
    },
    {
     "data": {
      "image/png": "[encoded data removed]",
      "text/plain": [
       "<Figure size 432x288 with 1 Axes>"
      ]
     },
     "metadata": {
      "needs_background": "light"
     },
     "output_type": "display_data"
    }
   ],
   "source": [
    "import matplotlib.pyplot as plt\n",
    "import seaborn as sns\n",
    "\n",
    "\n",
    "sns.scatterplot(data=df_graficar, x='d1',y='d2',hue = 'num_frase')"
   ]
  },
  {
   "cell_type": "markdown",
   "id": "delayed-graduate",
   "metadata": {},
   "source": [
    "## Texto a vectores word2vec\n",
    "\n",
    "Spacy viene con un modelo pre-entrenado que tiene vectores tipo *word2vec* para una gran cantidad de frases. Veamos como funciona. "
   ]
  },
  {
   "cell_type": "code",
   "execution_count": 87,
   "id": "collect-football",
   "metadata": {},
   "outputs": [
    {
     "name": "stdout",
     "output_type": "stream",
     "text": [
      "Quizá quizá True\n",
      "porque porque True\n",
      "mi mi True\n",
      "niñez niñez True\n",
      "sigue seguir True\n",
      "jugando jugar True\n",
      "en en True\n",
      "tu tu True\n",
      "playa playa True\n"
     ]
    }
   ],
   "source": [
    "### cada token tiene un booleano que nos dice si esa palabra está considerada en el dataset. En este caso, todas están. \n",
    "procesado = nlp(texto[0])\n",
    "\n",
    "for token in procesado:\n",
    "    print(token.text,token.lemma_,token.has_vector)\n",
    "    \n",
    "    "
   ]
  },
  {
   "cell_type": "code",
   "execution_count": 88,
   "id": "ideal-wheat",
   "metadata": {},
   "outputs": [
    {
     "name": "stdout",
     "output_type": "stream",
     "text": [
      "sdfsd sdfsd False\n",
      "sdf sdf False\n",
      "sd sd True\n"
     ]
    }
   ],
   "source": [
    "### pero no siempre hay vectores, en este caso spaCy nos va a dar un vector de ceros. \n",
    "procesado = nlp(\"sdfsd sdf sd\")\n",
    "\n",
    "for token in procesado:\n",
    "    print(token.text,token.lemma_,token.has_vector)\n",
    "    \n",
    "    "
   ]
  },
  {
   "cell_type": "code",
   "execution_count": 89,
   "id": "continent-request",
   "metadata": {},
   "outputs": [
    {
     "name": "stdout",
     "output_type": "stream",
     "text": [
      "Quizá quizá [-2.3946     0.57158   -2.2503    -1.7437    -2.9528    -1.8124\n",
      "  0.82779    1.9298    -1.438      1.0727    -1.8886     0.4899\n",
      " -2.0446    -2.7323    -1.2754    -0.52124    3.1035     1.7091\n",
      "  1.2225    -0.0051969  0.017543   0.72125   -2.8112     0.46973\n",
      " -0.18026   -0.46183   -0.78701   -1.7262    -0.55919   -0.46217\n",
      " -2.2765     1.8859     1.4053     0.02792   -0.51101    0.015094\n",
      "  0.33697    1.6714     2.4856    -0.63579    0.8644     0.58323\n",
      "  1.0836     0.02417   -0.10392    0.81129   -1.4764     0.67265\n",
      " -0.86105    0.33893    0.89465   -1.3858    -3.2988    -0.034321\n",
      " -1.1609     3.7726     0.69608    0.038921   0.30738   -0.42766\n",
      "  1.6538    -3.7173    -1.0638     0.46564    1.0503    -0.064595\n",
      " -1.7698     0.80816   -0.3701     1.4904     0.098327   2.2174\n",
      "  1.432      1.0318     0.50403   -0.31847    0.47597   -0.18748\n",
      "  1.9819    -1.8448     0.13876   -1.5224    -0.2527     0.26273\n",
      " -1.0378     1.6483    -1.7702     0.57526    0.181      1.2117\n",
      " -1.6858     0.84185   -3.2165    -1.889     -2.6972     3.597\n",
      " -0.20466   -0.023668  -0.37787   -0.1708    -0.546      0.8151\n",
      " -0.90238   -0.98463   -0.69334   -2.2743    -4.8747    -0.9358\n",
      "  0.66295   -0.30316   -0.7288    -0.18689    0.01261   -0.26081\n",
      " -0.27944    0.35062   -0.73583    1.6073    -0.95231   -1.5882\n",
      "  0.43087    0.18713   -0.63105   -0.60246   -0.62454    0.53383\n",
      "  1.6435     1.9273     0.27232   -0.91962    1.5437     0.0088377\n",
      " -1.5278     1.8629    -1.2614     1.9022    -0.021042   2.8237\n",
      "  0.45639   -1.7062    -2.0088     1.1519    -4.3437     0.1348\n",
      " -3.7153     0.60179   -1.3493    -1.2232    -2.1694     0.81193\n",
      " -1.3295    -0.12366    2.2043    -0.54227    0.020162  -1.9789\n",
      "  1.1138    -0.14673   -0.029945   0.63284   -1.8694     0.91401\n",
      "  0.39941    0.51212    0.92211   -1.1251    -0.0078987 -0.61232\n",
      " -1.2268    -0.85637    0.04827    0.92424    0.20152   -2.0644\n",
      "  4.6548    -0.15475    2.2408     0.12716    1.8886     0.94405\n",
      "  4.2796     1.53      -1.6771    -1.8941     0.41096   -0.18375\n",
      " -1.1907     0.74549   -0.069709  -2.7354     1.297     -0.80537\n",
      " -0.31554   -2.9311    -1.3097     0.048681  -1.7203     0.22124\n",
      "  0.31569   -0.26674   -0.70121   -0.73761    2.8268     1.4344\n",
      "  1.1116     0.15947    2.7228     1.0134     0.040681   1.4327\n",
      "  0.9988     1.072      1.0306    -1.1318    -1.1933    -0.30368\n",
      " -0.16602    0.73663   -0.29464    2.2673    -0.067001  -0.96607\n",
      "  0.14889   -1.5737     0.32929   -2.2011     0.69866   -0.15055\n",
      " -0.16231   -0.27231   -0.3566    -2.1806     0.32301    0.20503\n",
      "  1.9042     1.5592     2.1449     0.30001    0.67667   -1.1361\n",
      "  2.1125     0.60344    1.818     -1.7779     1.9135     1.4411\n",
      "  2.1061     2.5403     3.9287     0.80948    1.1653     0.70444\n",
      " -0.62332   -1.7644    -1.965      0.23543   -0.11562    2.3344\n",
      "  0.597     -1.8201     0.068472   1.3173     1.9987    -0.76935\n",
      "  0.089948   0.029336   2.2927    -1.966     -2.5104    -1.0294\n",
      "  1.6282     2.5133    -1.1365    -1.7309     1.6202     0.79312\n",
      "  3.2809    -0.81548    1.1067    -0.036866   0.92685    1.0191\n",
      "  0.093113  -0.16753    0.20342   -2.6959     1.0565     0.32805\n",
      " -1.2679     0.5347    -0.40115    0.28433    0.7779     0.69696\n",
      " -2.2005    -1.3691    -0.8296    -0.60706    0.90404   -1.15     ]\n",
      "300\n"
     ]
    }
   ],
   "source": [
    "### Para ver el vector de una palabra\n",
    "\n",
    "procesado = nlp(texto[0])\n",
    "\n",
    "for token in procesado:\n",
    "    print(token.text,token.lemma_,token.vector)\n",
    "    print(len(token.vector))\n",
    "    break\n",
    "    "
   ]
  },
  {
   "cell_type": "markdown",
   "id": "selective-indianapolis",
   "metadata": {},
   "source": [
    "## Ejercicio 1\n",
    "\n",
    "¿Los vectores de spaCy se calculan con las lematizaciones o con las palabras? Prueba con tres palabras, dos bien similares y otra bien distinta, y vé como se relacionan las distancias entre los vectores resultantes. \n"
   ]
  },
  {
   "cell_type": "code",
   "execution_count": 49,
   "id": "ordered-workshop",
   "metadata": {},
   "outputs": [
    {
     "name": "stdout",
     "output_type": "stream",
     "text": [
      "La distancia del vector spaCy entre las dos primera palabras es 0.0\n",
      "La distancia del vector spaCy entre la primera o segunda con la última es 29.12166404724121\n"
     ]
    }
   ],
   "source": [
    "import numpy as np\n",
    "palabras = [\"Distancia\", \"Distante\", \"Bicicleta\"]\n",
    "vectores = []\n",
    "\n",
    "for p in range(3):\n",
    "    palabra_procesada = nlp(palabras[p])\n",
    "    vector_palabra = palabra_procesada.vector\n",
    "    vectores.append(vector_palabra)\n",
    "\n",
    "x = pd.Series(vectores[0])\n",
    "y = pd.Series(vectores[1])\n",
    "z = pd.Series(vectores[2])\n",
    "\n",
    "distXY = (np.linalg.norm(x-y))\n",
    "distYZ = (np.linalg.norm(z-y))\n",
    "print(f\"La distancia del vector spaCy entre las dos primera palabras es {distXY}\")\n",
    "print(f\"La distancia del vector spaCy entre la primera o segunda con la última es {distYZ}\")\n"
   ]
  },
  {
   "cell_type": "markdown",
   "id": "charged-partition",
   "metadata": {},
   "source": [
    "Podemos notar que el vector es identico para las dos primeras palabras, ya que los vectores spaCy trabajan con lematizaciones y no con la palabra misma."
   ]
  },
  {
   "cell_type": "markdown",
   "id": "opponent-darkness",
   "metadata": {},
   "source": [
    "## Llevando los embeddings a frases\n",
    "\n",
    "Vamos a ver dos formas de llevar estos embeddings desde palabras a frases. "
   ]
  },
  {
   "cell_type": "markdown",
   "id": "technological-castle",
   "metadata": {},
   "source": [
    "Primero, tomando el vector media"
   ]
  },
  {
   "cell_type": "code",
   "execution_count": 90,
   "id": "ethical-saint",
   "metadata": {},
   "outputs": [
    {
     "data": {
      "text/plain": [
       "array([ 0.43799911, -0.82116554, -0.47065555,  0.22390522, -0.54759556,\n",
       "       -1.62313005, -2.61394332,  1.68422668,  1.27782222,  2.66748891,\n",
       "       -1.73035894, -0.54677669,  0.05528656, -0.22545   , -0.54689446,\n",
       "        2.28270548,  1.86790448, -0.77841776,  2.53517134,  0.617472  ,\n",
       "       -0.38606962, -1.82148614, -1.11029778, -0.25702223, -0.86837664,\n",
       "       -0.11803888,  1.93645116, -0.57707666,  0.31022   ,  2.86675889,\n",
       "       -2.56033557,  1.95408886,  1.18860733, -1.1557111 ,  0.83938169,\n",
       "        0.21135376,  0.61907754,  0.27234442,  2.02517777, -2.70244328,\n",
       "        1.67037914,  0.16161222, -0.28578779,  1.02496113,  1.59143888,\n",
       "       -1.72091565, -1.56340445,  1.21786334,  0.48329988, -0.49917221,\n",
       "       -0.16156109, -0.57702998,  0.82230778,  0.92931432, -0.55277674,\n",
       "        0.33114894,  0.64946557, -1.31524546,  0.75140442,  0.77310999,\n",
       "        1.24129821, -0.46474884, -0.85234554, -0.07082226, -0.31534336,\n",
       "        0.30682499, -1.01235004, -1.52183369,  0.94785734, -0.21513004,\n",
       "        2.2430586 ,  0.55514777, -1.01561788, -1.25966667,  0.38704891,\n",
       "        2.90426119, -0.37057112,  0.87845817,  0.11960444, -2.16786112,\n",
       "       -0.96036756,  0.69504997, -1.04661022,  0.76478775, -2.47172332,\n",
       "        1.70661226,  1.21820777,  0.47074111,  0.1967529 , -1.62973493,\n",
       "       -0.99559661,  3.37162666, -1.85946667, -2.08813111, -2.92721555,\n",
       "        2.13261217, -0.7665055 , -0.53094233, -0.65157225, -1.5929966 ,\n",
       "       -1.51303446,  1.87898446, -2.71735365,  0.18807667, -0.05789775,\n",
       "        0.24987556,  0.82659333,  0.8683122 , -0.27054551,  0.64439999,\n",
       "        0.06590999,  3.08115776, -0.17235222, -0.58018332,  0.4516111 ,\n",
       "        0.65608557, -0.69303891,  0.71856968, -3.14668882,  0.50020447,\n",
       "        0.70890002,  1.69872004, -0.22514892, -1.0606107 ,  0.97112221,\n",
       "        0.03247289, -1.33025882, -1.6778867 ,  0.67447337, -0.75562443,\n",
       "        1.73869   ,  1.14210757, -0.58583442,  2.62752219,  1.09774443,\n",
       "        0.5133022 , -1.59615914,  2.76279776,  2.24698218,  1.84748998,\n",
       "        2.47522123,  0.04889108, -2.63935665,  2.35021108, -0.748745  ,\n",
       "        1.9236066 , -2.18827113, -0.72571558, -0.06300221,  2.21132775,\n",
       "       -0.82951226, -0.96795921, -0.02970445, -0.43988156,  0.90846022,\n",
       "       -0.68628221, -0.03160668, -1.33337   , -2.00066059, -1.07700556,\n",
       "        0.63935782,  2.08074746, -0.15482778,  2.27217444,  0.78135999,\n",
       "       -0.91545114, -0.83555681, -1.06390777, -1.31918889, -0.53027777,\n",
       "        0.59482776,  2.56414435, -2.83973555, -0.56273794,  2.16755449,\n",
       "        0.46040108, -0.74934742,  0.14792001,  1.06649222,  0.2063878 ,\n",
       "        1.70314267, -0.23517781, -1.55243446, -1.43744552, -0.63920221,\n",
       "       -1.03009962, -3.43927884, -0.24805226,  0.02886904, -1.60034219,\n",
       "        1.37791112,  0.75719725, -1.4131578 , -2.18715448,  0.14820857,\n",
       "       -1.07129998, -0.23908443,  1.68956667, -0.91617115, -0.30322148,\n",
       "        2.06846114,  2.59537778, -0.40884555,  0.35943942,  0.67060332,\n",
       "        1.84802799,  1.57182446,  0.62461666,  1.50921565,  2.05926001,\n",
       "       -1.39529903,  1.44890334,  2.55750441, -3.54284114,  0.47172111,\n",
       "        1.25466115,  2.04525444,  3.48875885, -2.52394886,  0.60675722,\n",
       "       -0.91472568,  0.25554223, -1.41496443,  0.73609002, -0.05159112,\n",
       "       -1.30725222,  1.73734121, -2.50959447, -0.04012116,  1.32337   ,\n",
       "       -0.4312511 , -2.00070378, -0.8588178 ,  2.41742995,  0.33600666,\n",
       "        0.24468444, -1.86472105,  0.22794222,  0.60815665, -0.25175448,\n",
       "        1.32806037,  1.07630001, -1.38373555, -0.14181853,  0.78298002,\n",
       "        0.70119667,  1.12162222,  0.85534798,  1.59881994,  2.07715553,\n",
       "        0.38680559, -0.32538336, -1.04188998, -0.33240698,  2.48161438,\n",
       "       -0.34810894, -0.57092669, -1.85031143, -0.72939301, -0.78937776,\n",
       "        2.16899574,  2.50026666,  0.52185237,  0.60207104,  0.2829698 ,\n",
       "        2.99801169,  0.38789702, -0.37212863, -1.51811223, -1.45726004,\n",
       "        2.45271003,  2.04452221, -0.83270109,  0.20664222, -3.11446998,\n",
       "        1.27232998,  1.10984889,  0.35501664,  0.12250335, -1.650944  ,\n",
       "        0.55987999, -1.79874592, -0.40068639,  1.191291  ,  0.16789375,\n",
       "        0.52562778, -2.00737883,  0.29762002, -0.10194999,  0.56346822,\n",
       "       -0.19997777,  2.56279555, -0.5456769 , -1.24442224,  0.77849668,\n",
       "        0.80516779, -2.25897888,  0.56267335, -0.57202667,  0.67192432])"
      ]
     },
     "execution_count": 90,
     "metadata": {},
     "output_type": "execute_result"
    }
   ],
   "source": [
    "import numpy as np\n",
    "\n",
    "procesado = nlp(texto[0])\n",
    "\n",
    "vectores_frase = np.zeros(len(procesado[0].vector))\n",
    "\n",
    "for token in procesado: \n",
    "    vectores_frase += token.vector\n",
    "vectores_frase = vectores_frase/len(procesado)\n",
    "vectores_frase \n"
   ]
  },
  {
   "cell_type": "markdown",
   "id": "tender-listing",
   "metadata": {},
   "source": [
    "La otra es pedir el vector de la frase directo a spaCy"
   ]
  },
  {
   "cell_type": "code",
   "execution_count": 91,
   "id": "atmospheric-boxing",
   "metadata": {},
   "outputs": [
    {
     "data": {
      "text/plain": [
       "array([ 0.43799913, -0.82116556, -0.47065544,  0.22390525, -0.54759556,\n",
       "       -1.6231301 , -2.6139433 ,  1.6842266 ,  1.2778221 ,  2.667489  ,\n",
       "       -1.730359  , -0.54677665,  0.05528655, -0.22545004, -0.5468944 ,\n",
       "        2.2827053 ,  1.8679044 , -0.77841777,  2.5351713 ,  0.617472  ,\n",
       "       -0.38606963, -1.8214861 , -1.1102978 , -0.2570222 , -0.8683767 ,\n",
       "       -0.11803889,  1.9364512 , -0.5770766 ,  0.31021997,  2.8667588 ,\n",
       "       -2.5603356 ,  1.9540887 ,  1.1886075 , -1.155711  ,  0.83938175,\n",
       "        0.21135372,  0.61907756,  0.27234447,  2.025178  , -2.7024434 ,\n",
       "        1.670379  ,  0.16161226, -0.28578776,  1.0249611 ,  1.5914389 ,\n",
       "       -1.7209157 , -1.5634046 ,  1.2178633 ,  0.48329985, -0.4991722 ,\n",
       "       -0.16156107, -0.57703   ,  0.82230777,  0.9293144 , -0.5527767 ,\n",
       "        0.33114898,  0.6494657 , -1.3152454 ,  0.75140446,  0.7731101 ,\n",
       "        1.2412982 , -0.4647488 , -0.8523456 , -0.07082229, -0.31534332,\n",
       "        0.30682498, -1.0123501 , -1.5218339 ,  0.9478573 , -0.21513003,\n",
       "        2.2430584 ,  0.55514777, -1.015618  , -1.2596667 ,  0.3870489 ,\n",
       "        2.9042614 , -0.3705711 ,  0.87845814,  0.11960445, -2.1678612 ,\n",
       "       -0.9603675 ,  0.69505   , -1.0466104 ,  0.76478785, -2.4717236 ,\n",
       "        1.7066121 ,  1.2182078 ,  0.47074112,  0.19675292, -1.6297349 ,\n",
       "       -0.9955966 ,  3.3716269 , -1.8594666 , -2.0881312 , -2.9272153 ,\n",
       "        2.1326122 , -0.7665055 , -0.5309423 , -0.6515722 , -1.5929966 ,\n",
       "       -1.5130343 ,  1.8789845 , -2.7173536 ,  0.18807667, -0.05789777,\n",
       "        0.2498756 ,  0.8265934 ,  0.8683121 , -0.27054557,  0.6444    ,\n",
       "        0.06591003,  3.0811577 , -0.17235227, -0.5801833 ,  0.4516111 ,\n",
       "        0.65608555, -0.6930389 ,  0.71856964, -3.1466887 ,  0.50020444,\n",
       "        0.70890003,  1.69872   , -0.22514895, -1.0606107 ,  0.9711222 ,\n",
       "        0.03247286, -1.3302588 , -1.6778866 ,  0.67447335, -0.7556244 ,\n",
       "        1.73869   ,  1.1421075 , -0.5858344 ,  2.6275225 ,  1.0977445 ,\n",
       "        0.51330227, -1.5961592 ,  2.7627976 ,  2.246982  ,  1.8474898 ,\n",
       "        2.4752212 ,  0.04889107, -2.6393566 ,  2.3502111 , -0.74874496,\n",
       "        1.9236064 , -2.188271  , -0.7257156 , -0.06300219,  2.2113276 ,\n",
       "       -0.82951224, -0.96795917, -0.02970449, -0.43988156,  0.9084603 ,\n",
       "       -0.6862823 , -0.03160669, -1.33337   , -2.0006607 , -1.0770056 ,\n",
       "        0.6393578 ,  2.0807474 , -0.1548278 ,  2.2721744 ,  0.78136   ,\n",
       "       -0.91545117, -0.8355568 , -1.0639079 , -1.319189  , -0.5302778 ,\n",
       "        0.5948278 ,  2.5641444 , -2.8397355 , -0.562738  ,  2.1675546 ,\n",
       "        0.46040112, -0.74934745,  0.14791998,  1.0664923 ,  0.20638782,\n",
       "        1.7031426 , -0.23517779, -1.5524344 , -1.4374455 , -0.63920224,\n",
       "       -1.0300996 , -3.439279  , -0.24805233,  0.0288691 , -1.6003422 ,\n",
       "        1.3779111 ,  0.75719726, -1.4131578 , -2.1871545 ,  0.14820856,\n",
       "       -1.0713    , -0.23908445,  1.6895665 , -0.9161711 , -0.30322146,\n",
       "        2.0684612 ,  2.595378  , -0.40884554,  0.35943937,  0.67060333,\n",
       "        1.848028  ,  1.5718246 ,  0.6246166 ,  1.5092156 ,  2.0592601 ,\n",
       "       -1.3952991 ,  1.4489033 ,  2.5575044 , -3.542841  ,  0.4717211 ,\n",
       "        1.2546611 ,  2.0452545 ,  3.4887588 , -2.5239487 ,  0.60675716,\n",
       "       -0.9147257 ,  0.25554228, -1.4149644 ,  0.73609   , -0.05159112,\n",
       "       -1.3072523 ,  1.7373413 , -2.5095947 , -0.04012118,  1.32337   ,\n",
       "       -0.43125114, -2.0007038 , -0.8588178 ,  2.41743   ,  0.3360067 ,\n",
       "        0.24468443, -1.8647211 ,  0.2279422 ,  0.6081566 , -0.2517545 ,\n",
       "        1.3280604 ,  1.0762999 , -1.3837354 , -0.14181848,  0.7829801 ,\n",
       "        0.7011967 ,  1.1216222 ,  0.85534793,  1.59882   ,  2.0771556 ,\n",
       "        0.38680562, -0.32538337, -1.04189   , -0.332407  ,  2.4816144 ,\n",
       "       -0.3481089 , -0.57092667, -1.8503115 , -0.729393  , -0.7893779 ,\n",
       "        2.1689959 ,  2.5002666 ,  0.52185243,  0.602071  ,  0.28296983,\n",
       "        2.9980116 ,  0.387897  , -0.37212864, -1.5181122 , -1.45726   ,\n",
       "        2.4527102 ,  2.0445223 , -0.8327011 ,  0.20664223, -3.1144698 ,\n",
       "        1.2723299 ,  1.1098489 ,  0.35501662,  0.12250337, -1.6509441 ,\n",
       "        0.55988   , -1.7987459 , -0.40068638,  1.1912911 ,  0.16789374,\n",
       "        0.5256278 , -2.0073786 ,  0.29762003, -0.10194998,  0.5634682 ,\n",
       "       -0.19997777,  2.5627954 , -0.54567695, -1.2444222 ,  0.77849674,\n",
       "        0.80516785, -2.2589788 ,  0.56267333, -0.57202667,  0.67192435],\n",
       "      dtype=float32)"
      ]
     },
     "execution_count": 91,
     "metadata": {},
     "output_type": "execute_result"
    }
   ],
   "source": [
    "procesado = nlp(texto[0])\n",
    "\n",
    "procesado.vector\n"
   ]
  },
  {
   "cell_type": "markdown",
   "id": "spare-adventure",
   "metadata": {},
   "source": [
    "## Ejercicio 2\n",
    "\n",
    "¿Son estos iguales? Arma un dataset de 14 vectores, cada uno correspondiente a una frase del texto, resultante de usar las forma de llevar frases a vectores que vimos acá. Usa PCA para llevar ese dataset a dos dimensiones, y visualizar, tal como lo hicimos con los vectores tf-idf. ¿Vés alguna diferencia?"
   ]
  },
  {
   "cell_type": "code",
   "execution_count": 107,
   "id": "threatened-commerce",
   "metadata": {},
   "outputs": [
    {
     "data": {
      "text/plain": [
       "<AxesSubplot:xlabel='d1', ylabel='d2'>"
      ]
     },
     "execution_count": 107,
     "metadata": {},
     "output_type": "execute_result"
    },
    {
     "data": {
      "image/png": "[encoded data removed]",
      "text/plain": [
       "<Figure size 432x288 with 1 Axes>"
      ]
     },
     "metadata": {
      "needs_background": "light"
     },
     "output_type": "display_data"
    }
   ],
   "source": [
    "vectores = []\n",
    "for p in range(14):\n",
    "    frase = nlp(texto[p])\n",
    "    vector = frase.vector\n",
    "    vectores.append(vector)\n",
    "\n",
    "\n",
    "dt_vector = pd.DataFrame(vectores)\n",
    "dt_vector\n",
    "\n",
    "grafica = pca.fit_transform(dt_vector)\n",
    "df_graficar = pd.DataFrame(grafica,columns = ['d1','d2']) \n",
    "df_graficar[\"num_frase\"] = range(14)\n",
    "df_graficar\n",
    "\n",
    "sns.scatterplot(data=df_graficar, x='d1',y='d2',hue = 'num_frase')"
   ]
  },
  {
   "cell_type": "code",
   "execution_count": 108,
   "id": "latest-independence",
   "metadata": {},
   "outputs": [
    {
     "data": {
      "text/plain": [
       "<AxesSubplot:xlabel='d1', ylabel='d2'>"
      ]
     },
     "execution_count": 108,
     "metadata": {},
     "output_type": "execute_result"
    },
    {
     "data": {
      "image/png": "[encoded data removed]",
      "text/plain": [
       "<Figure size 432x288 with 1 Axes>"
      ]
     },
     "metadata": {
      "needs_background": "light"
     },
     "output_type": "display_data"
    }
   ],
   "source": [
    "vectores = []\n",
    "for t in range(14):\n",
    "    frase = nlp(texto[t])\n",
    "    vectores_frase = np.zeros(len(frase[0].vector))\n",
    "    \n",
    "    for token in frase:\n",
    "        vectores_frase += token.vector\n",
    "    \n",
    "    vectores_frase = vectores_frase/len(frase)\n",
    "    vectores.append(vectores_frase)\n",
    "\n",
    "dt_vector = pd.DataFrame(vectores)\n",
    "dt_vector\n",
    "\n",
    "grafica = pca.fit_transform(dt_vector)\n",
    "df_graficar = pd.DataFrame(grafica,columns = ['d1','d2']) \n",
    "df_graficar[\"num_frase\"] = range(14)\n",
    "df_graficar\n",
    "\n",
    "sns.scatterplot(data=df_graficar, x='d1',y='d2',hue = 'num_frase')"
   ]
  },
  {
   "cell_type": "markdown",
   "id": "superior-crowd",
   "metadata": {},
   "source": [
    "Como podemos notar, al aplicar una visualización de ambos datasets con estas dos aproximaciones obtenemos el mismo resultado. Por ende, estos dos metodos son igual de validos."
   ]
  }
 ],
 "metadata": {
  "kernelspec": {
   "display_name": "Python 3",
   "language": "python",
   "name": "python3"
  },
  "language_info": {
   "codemirror_mode": {
    "name": "ipython",
    "version": 3
   },
   "file_extension": ".py",
   "mimetype": "text/x-python",
   "name": "python",
   "nbconvert_exporter": "python",
   "pygments_lexer": "ipython3",
   "version": "3.6.8"
  }
 },
 "nbformat": 4,
 "nbformat_minor": 5
}
