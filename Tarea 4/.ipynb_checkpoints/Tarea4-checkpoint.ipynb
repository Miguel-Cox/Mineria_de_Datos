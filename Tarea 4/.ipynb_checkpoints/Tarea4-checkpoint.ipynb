{
 "cells": [
  {
   "cell_type": "markdown",
   "id": "fifteen-fireplace",
   "metadata": {},
   "source": [
    "# Tarea 4\n",
    "\n",
    "Cuentas con un set de datos de imágenes en blanco y negro (de 28x28 pixeles) de distintas prendas de vestir (son 10 tipos de prendas en total, mira [aca](https://github.com/zalandoresearch/fashion-mnist)). En esta tarea vas a resolver el problema de crear nuevas imágenes prendas de vestir. Especificamente, la tarea que se te ha encomendado es:\n",
    "\n",
    "> Elige dos tipos de los 10 tipos de prendas\n",
    ">>Para cada uno de esos dos tipos, escribe una función que retorne uno de esos dos tipos, y retorne una nueva imagen de ese tipo, obtenida al azar, que no esté ya en el dataset\n",
    "\n",
    "La solución a trabajar para escribir esta funcion consta de las siguientes partes\n",
    "\n",
    "### Parte 1: datos, reducción de dimensionalidad\n",
    "\n",
    "- Prueba dos formas de reducir a 6 dimensiones: PCA y autoencoders. \n",
    "- Busca 3 imágenes en el dataset. Para esas tres imágenes, compara visualmente lo que ocurre al (1) graficar la imagen original (hay código para eso más abajo) y (2) tomar el vector de la imagen, codificarlo, decodificarlo y volver a graficar (para pca y autoencoder, recuerda estandarizar y luego des-estandarizar, como hicimos en el notebook de compresión de la semana 9). \n",
    "- Sigue afinando tu método de reducción hasta que entregue imágenes que al codificar/decodificar, la imagen nueva resultante todavía guarde alguna semejanza con la realidad. \n",
    "- Una vez que estés satisfecho, transforma todo el dataset con tu método de reducción. Al dataset resultante (ahora con 6 dimensiones) le llamaremos **Xreducido**\n",
    "\n",
    "### Parte 2: clustering y sampling \n",
    "\n",
    "- Ejecuta un algoritmo de clustering GMM sobre **Xreducido**, con 10 clústeres. Averigua como obtener las medias y las covarianzas de los 10 clústeres resultantes. \n",
    "- Usa *np.random.multivariate_normal(mean_vector,covariance_matrix)*, que se usa para obtener un elemento de la normal multivariada con su vector de media *mean_vector* y matriz de covarianzas *covariance_matrix*, para obtener un sample de cada una de las 10 gaussianas que entrenó tu GMM\n",
    "\n",
    "### Parte 3: análisis  \n",
    "\n",
    "- Cada sample puede ser graficado como imagen: hay que pasarlo por el decodificador (o la transformada inversa en el caso de PCA). \n",
    "- Analiza visualmente dos samples de cada clase\n",
    "- Analiza visualmente la media de cada cluster identificado por GMM\n",
    "- Con las visualizaciones de esta parte, responde: ¿qué clústeres parece entregar consistentemente prendas de un tipo en específico? ¿qué prendas son?\n",
    "- Entrena un clasificador de randomforest con los datos originales. \n",
    "- Samplea y decodifica 50 ejemplos de cada cluster identificado por GMM, y entrégaselos al randomforest. Ahora ve los resultados de las predicciones. Vé si son consistentes en el sentido de que predicen que una buena cantidad de los ejemplos de los dos clústeres que identificaste son de una prenda en particular. "
   ]
  },
  {
   "cell_type": "markdown",
   "id": "experimental-auditor",
   "metadata": {},
   "source": [
    "### Detalles académicos\n",
    "\n",
    "La entrega de esta tarea es el Viernes 19 de Noviembre, a las 20:00, por cuestionario en SIDING. Se debe subir solo un archivo de jupyter notebook. Te pedimos también por favor nombrar tu archivo con el formato **NumeroAlumno_Apellido_Nombre**. "
   ]
  },
  {
   "cell_type": "code",
   "execution_count": 11,
   "id": "quantitative-louisiana",
   "metadata": {},
   "outputs": [],
   "source": []
  },
  {
   "cell_type": "markdown",
   "id": "placed-bangladesh",
   "metadata": {},
   "source": [
    "## Datos"
   ]
  },
  {
   "cell_type": "code",
   "execution_count": 4,
   "id": "sacred-sucking",
   "metadata": {},
   "outputs": [],
   "source": [
    "import numpy as np\n",
    "import pandas as pd\n",
    "import matplotlib.pyplot as plt\n",
    "import seaborn as sns\n",
    "from sklearn.datasets import fetch_openml"
   ]
  },
  {
   "cell_type": "markdown",
   "id": "compatible-client",
   "metadata": {},
   "source": [
    "Bajamos el dataset, nos quedamos con 10.000 tuplas (esto es opcional, para que todo cargue más rápido, mientras más tuplas se dejen, mejor deberían ser los resultados)"
   ]
  },
  {
   "cell_type": "code",
   "execution_count": 46,
   "id": "partial-genome",
   "metadata": {},
   "outputs": [
    {
     "name": "stdout",
     "output_type": "stream",
     "text": [
      "<class 'pandas.core.frame.DataFrame'>\n",
      "RangeIndex: 10000 entries, 60000 to 69999\n",
      "Columns: 784 entries, pixel1 to pixel784\n",
      "dtypes: float64(784)\n",
      "memory usage: 59.8 MB\n"
     ]
    }
   ],
   "source": [
    "mnist = fetch_openml('Fashion-MNIST', version=1, as_frame=True)\n",
    "mnist.keys()\n",
    "\n",
    "X, y = mnist['data'], mnist['target']\n",
    "X_sample = X[60000:]\n",
    "y_sample = y[60000:]\n",
    "X_sample.info()"
   ]
  },
  {
   "cell_type": "markdown",
   "id": "funded-reward",
   "metadata": {},
   "source": [
    "### Mostrando una foto\n",
    "Para mostrar las fotos, tenemos que volver a formato de 28x28 píxeles"
   ]
  },
  {
   "cell_type": "code",
   "execution_count": 6,
   "id": "departmental-parent",
   "metadata": {},
   "outputs": [
    {
     "data": {
      "image/png": "[encoded data removed]",
      "text/plain": [
       "<Figure size 432x288 with 1 Axes>"
      ]
     },
     "metadata": {
      "needs_background": "light"
     },
     "output_type": "display_data"
    }
   ],
   "source": [
    "#sacar la entidad numero 2000 del dataset \n",
    "\n",
    "some_garment = X_sample.iloc[2000]\n",
    "some_garment_image = some_garment.values.reshape(28,28)\n",
    "\n",
    "plt.imshow(some_garment_image, cmap='binary')\n",
    "plt.axis('off')\n",
    "plt.show()"
   ]
  },
  {
   "cell_type": "markdown",
   "id": "round-conditions",
   "metadata": {},
   "source": [
    "# ACA COMIENZA TU TRABAJO"
   ]
  },
  {
   "cell_type": "code",
   "execution_count": 79,
   "id": "english-offset",
   "metadata": {},
   "outputs": [
    {
     "name": "stdout",
     "output_type": "stream",
     "text": [
      "dict_keys(['data', 'target', 'frame', 'categories', 'feature_names', 'target_names', 'DESCR', 'details', 'url'])\n"
     ]
    }
   ],
   "source": [
    "print(mnist.keys())\n",
    "num_dimensiones = len(X_sample.columns)"
   ]
  },
  {
   "cell_type": "markdown",
   "id": "irish-fraction",
   "metadata": {},
   "source": [
    "# Parte 1: reducir dimensionalidad\n",
    "¡Recuerda estandarizar los datos!"
   ]
  },
  {
   "cell_type": "markdown",
   "id": "ecological-workstation",
   "metadata": {},
   "source": [
    "Autoencoders"
   ]
  },
  {
   "cell_type": "code",
   "execution_count": 63,
   "id": "contained-selection",
   "metadata": {},
   "outputs": [],
   "source": [
    "from sklearn.decomposition import PCA\n",
    "from tensorflow import keras\n",
    "from sklearn.preprocessing import StandardScaler\n",
    "\n",
    "def autoencoderdata(X_sample):\n",
    "    sc = StandardScaler()\n",
    "    X_std = sc.fit_transform(X_sample)\n",
    "\n",
    "    num_dimensiones = len(X_sample.columns)\n",
    "    encoder = keras.models.Sequential([\n",
    "        keras.layers.Dense(6, input_shape=[num_dimensiones]),\n",
    "    ])\n",
    "    decoder = keras.models.Sequential([\n",
    "        keras.layers.Dense(num_dimensiones, input_shape=[6]),\n",
    "    ])\n",
    "    autoencoder = keras.models.Sequential([encoder, decoder])\n",
    "\n",
    "    X_auto6dim = encoder.predict(X_std)\n",
    "    return X_auto6dim"
   ]
  },
  {
   "cell_type": "markdown",
   "id": "funny-choice",
   "metadata": {},
   "source": [
    "PCA"
   ]
  },
  {
   "cell_type": "code",
   "execution_count": 66,
   "id": "subsequent-dance",
   "metadata": {},
   "outputs": [],
   "source": [
    "def pcadimreducer(X_sample):\n",
    "    X_std = sc.fit_transform(X_sample)\n",
    "    pca = PCA(n_components=6)\n",
    "    pca_6dim = pca.fit_transform(X_std)\n",
    "    return pca_6dim"
   ]
  },
  {
   "cell_type": "markdown",
   "id": "alien-activation",
   "metadata": {},
   "source": [
    "Comparación"
   ]
  },
  {
   "cell_type": "code",
   "execution_count": 67,
   "id": "eleven-tuition",
   "metadata": {},
   "outputs": [
    {
     "name": "stdout",
     "output_type": "stream",
     "text": [
      "Precision de encoder: 0.34670000000000006\n",
      "Precision de pca: 0.6708000000000001\n"
     ]
    }
   ],
   "source": [
    "from sklearn import tree\n",
    "from sklearn.model_selection import cross_val_score\n",
    "\n",
    "clf = tree.DecisionTreeClassifier()\n",
    "\n",
    "X_auto6dim = autoencoderdata(X_sample)\n",
    "pca_6dim = pcadimreducer(X_sample)\n",
    "\n",
    "accu_encoder = np.mean(cross_val_score(clf, X_auto6dim, y_sample, cv=5, scoring='accuracy'))\n",
    "accu_pca = np.mean(cross_val_score(clf, pca_6dim, y_sample, cv=5, scoring='accuracy'))\n",
    "\n",
    "print(f\"Precision de encoder: {accu_encoder}\")\n",
    "print(f\"Precision de pca: {accu_pca}\")"
   ]
  },
  {
   "cell_type": "markdown",
   "id": "obvious-bottom",
   "metadata": {},
   "source": [
    "Finalmente: ¿Con qué estrategia para reducir dimensionalidad te quedas? Transforma *X_sample* a *X_reducido*"
   ]
  },
  {
   "cell_type": "markdown",
   "id": "portuguese-occasion",
   "metadata": {},
   "source": [
    "Como podemos notar, la precisión de reducción de dimensionalidad es mucho mas alta utilizando PCA. Sin embargo, aun se puede hacer cambios en los datos de modo que se puede mejorar utilizando autoencoder."
   ]
  },
  {
   "cell_type": "code",
   "execution_count": 105,
   "id": "beautiful-handle",
   "metadata": {},
   "outputs": [
    {
     "name": "stderr",
     "output_type": "stream",
     "text": [
      "c:\\users\\migue\\appdata\\local\\programs\\python\\python36\\lib\\site-packages\\keras\\optimizer_v2\\optimizer_v2.py:356: UserWarning: The `lr` argument is deprecated, use `learning_rate` instead.\n",
      "  \"The `lr` argument is deprecated, use `learning_rate` instead.\")\n"
     ]
    },
    {
     "data": {
      "image/png": "[encoded data removed]",
      "text/plain": [
       "<Figure size 432x288 with 1 Axes>"
      ]
     },
     "metadata": {
      "needs_background": "light"
     },
     "output_type": "display_data"
    },
    {
     "data": {
      "image/png": "[encoded data removed]",
      "text/plain": [
       "<Figure size 432x288 with 1 Axes>"
      ]
     },
     "metadata": {
      "needs_background": "light"
     },
     "output_type": "display_data"
    },
    {
     "data": {
      "image/png": "[encoded data removed]",
      "text/plain": [
       "<Figure size 432x288 with 1 Axes>"
      ]
     },
     "metadata": {
      "needs_background": "light"
     },
     "output_type": "display_data"
    },
    {
     "data": {
      "image/png": "[encoded data removed]",
      "text/plain": [
       "<Figure size 432x288 with 1 Axes>"
      ]
     },
     "metadata": {
      "needs_background": "light"
     },
     "output_type": "display_data"
    },
    {
     "data": {
      "image/png": "[encoded data removed]",
      "text/plain": [
       "<Figure size 432x288 with 1 Axes>"
      ]
     },
     "metadata": {
      "needs_background": "light"
     },
     "output_type": "display_data"
    },
    {
     "data": {
      "image/png": "[encoded data removed]",
      "text/plain": [
       "<Figure size 432x288 with 1 Axes>"
      ]
     },
     "metadata": {
      "needs_background": "light"
     },
     "output_type": "display_data"
    }
   ],
   "source": [
    "encoder = keras.models.Sequential([\n",
    "    keras.layers.Dense(6, input_shape=[num_dimensiones]),\n",
    "])\n",
    "\n",
    "decoder = keras.models.Sequential([\n",
    "    keras.layers.Dense(num_dimensiones, input_shape=[6]),\n",
    "])\n",
    "\n",
    "autoencoder = keras.models.Sequential([encoder, decoder])\n",
    "autoencoder.compile(loss='mse', optimizer = keras.optimizers.SGD(lr=0.1))\n",
    "\n",
    "# Si consideramos 3 imagenes, tenemos que:\n",
    "\n",
    "imagen1 = X_sample.iloc[2]\n",
    "imagen2 = X_sample.iloc[1000]\n",
    "imagen3 = X_sample.iloc[1400]\n",
    "\n",
    "def compareimage(some_garment):\n",
    "    some_garment_image = some_garment.values.reshape(28,28)\n",
    "\n",
    "    plt.imshow(some_garment_image, cmap='binary')\n",
    "    plt.axis('off')\n",
    "    plt.show()\n",
    "    \n",
    "    some_garment_std = sc.transform([some_garment])\n",
    "    vector_autoencoded = decoder.predict(encoder.predict(some_garment_std))\n",
    "    vector_no_std = sc.inverse_transform(vector_autoencoded)\n",
    "    some_garment_image2 = vector_no_std[0].reshape(28,28)\n",
    "    \n",
    "    plt.imshow(some_garment_image2, cmap='binary')\n",
    "    plt.axis('off')\n",
    "    plt.show()\n",
    "    \n",
    "compareimage(imagen1)\n",
    "compareimage(imagen2)\n",
    "compareimage(imagen3)"
   ]
  },
  {
   "cell_type": "code",
   "execution_count": 122,
   "id": "unlike-appendix",
   "metadata": {},
   "outputs": [
    {
     "name": "stdout",
     "output_type": "stream",
     "text": [
      "Epoch 1/100\n",
      "313/313 [==============================] - 1s 2ms/step - loss: 0.4596 - val_loss: 0.4589\n",
      "Epoch 2/100\n",
      "313/313 [==============================] - 1s 2ms/step - loss: 0.4595 - val_loss: 0.4590\n",
      "Epoch 3/100\n",
      "313/313 [==============================] - 1s 2ms/step - loss: 0.4595 - val_loss: 0.4589\n",
      "Epoch 4/100\n",
      "313/313 [==============================] - 1s 2ms/step - loss: 0.4595 - val_loss: 0.4589\n",
      "Epoch 5/100\n",
      "313/313 [==============================] - 1s 2ms/step - loss: 0.4595 - val_loss: 0.4589\n",
      "Epoch 6/100\n",
      "313/313 [==============================] - 1s 2ms/step - loss: 0.4595 - val_loss: 0.4589\n",
      "Epoch 7/100\n",
      "313/313 [==============================] - 1s 2ms/step - loss: 0.4595 - val_loss: 0.4589\n",
      "Epoch 8/100\n",
      "313/313 [==============================] - 1s 2ms/step - loss: 0.4595 - val_loss: 0.4589\n",
      "Epoch 9/100\n",
      "313/313 [==============================] - 1s 2ms/step - loss: 0.4595 - val_loss: 0.4589\n",
      "Epoch 10/100\n",
      "313/313 [==============================] - 1s 2ms/step - loss: 0.4595 - val_loss: 0.4589\n",
      "Epoch 11/100\n",
      "313/313 [==============================] - 1s 2ms/step - loss: 0.4595 - val_loss: 0.4589\n",
      "Epoch 12/100\n",
      "313/313 [==============================] - 1s 2ms/step - loss: 0.4595 - val_loss: 0.4589\n",
      "Epoch 13/100\n",
      "313/313 [==============================] - 1s 2ms/step - loss: 0.4595 - val_loss: 0.4589\n",
      "Epoch 14/100\n",
      "313/313 [==============================] - 1s 2ms/step - loss: 0.4595 - val_loss: 0.4589\n",
      "Epoch 15/100\n",
      "313/313 [==============================] - 1s 2ms/step - loss: 0.4595 - val_loss: 0.4589\n",
      "Epoch 16/100\n",
      "313/313 [==============================] - 1s 2ms/step - loss: 0.4595 - val_loss: 0.4589\n",
      "Epoch 17/100\n",
      "313/313 [==============================] - 1s 2ms/step - loss: 0.4595 - val_loss: 0.4589\n",
      "Epoch 18/100\n",
      "313/313 [==============================] - 1s 2ms/step - loss: 0.4595 - val_loss: 0.4589\n",
      "Epoch 19/100\n",
      "313/313 [==============================] - 1s 2ms/step - loss: 0.4595 - val_loss: 0.4589\n",
      "Epoch 20/100\n",
      "313/313 [==============================] - 1s 2ms/step - loss: 0.4595 - val_loss: 0.4589\n",
      "Epoch 21/100\n",
      "313/313 [==============================] - 1s 2ms/step - loss: 0.4595 - val_loss: 0.4589\n",
      "Epoch 22/100\n",
      "313/313 [==============================] - 1s 2ms/step - loss: 0.4595 - val_loss: 0.4589\n",
      "Epoch 23/100\n",
      "313/313 [==============================] - 1s 2ms/step - loss: 0.4595 - val_loss: 0.4589\n",
      "Epoch 24/100\n",
      "313/313 [==============================] - 1s 2ms/step - loss: 0.4595 - val_loss: 0.4589\n",
      "Epoch 25/100\n",
      "313/313 [==============================] - 1s 2ms/step - loss: 0.4595 - val_loss: 0.4589\n",
      "Epoch 26/100\n",
      "313/313 [==============================] - 1s 2ms/step - loss: 0.4594 - val_loss: 0.4589\n"
     ]
    }
   ],
   "source": [
    "def getautoencodedimages(images):\n",
    "    images_std = sc.transform(images)\n",
    "    history = autoencoder.fit(images_std,images_std, epochs=100,validation_data=(images_std,images_std),\n",
    "                         callbacks=[keras.callbacks.EarlyStopping(patience=10)])\n",
    "    return encoder.predict(X_std)\n",
    "    \n",
    "X_reducido = getautoencodedimages(X_sample)"
   ]
  },
  {
   "cell_type": "code",
   "execution_count": 147,
   "id": "altered-pearl",
   "metadata": {},
   "outputs": [
    {
     "name": "stdout",
     "output_type": "stream",
     "text": [
      "0.6655\n"
     ]
    }
   ],
   "source": [
    "accu_red = np.mean(cross_val_score(clf, X_reducido, y_sample, cv=5, scoring='accuracy'))\n",
    "print(accu_red)"
   ]
  },
  {
   "cell_type": "markdown",
   "id": "surface-african",
   "metadata": {},
   "source": [
    "# Parte 2: Sampleo"
   ]
  },
  {
   "cell_type": "markdown",
   "id": "rapid-profit",
   "metadata": {},
   "source": [
    "Hacer fit de un modelo GMM"
   ]
  },
  {
   "cell_type": "code",
   "execution_count": 139,
   "id": "seventh-pledge",
   "metadata": {},
   "outputs": [
    {
     "data": {
      "text/plain": [
       "array([8, 5, 2, ..., 6, 2, 8], dtype=int64)"
      ]
     },
     "execution_count": 139,
     "metadata": {},
     "output_type": "execute_result"
    }
   ],
   "source": [
    "from sklearn.mixture import GaussianMixture\n",
    "\n",
    "gmm = GaussianMixture(n_components=10, random_state=42)\n",
    "y_pred = gmm.fit_predict(X_reducido)\n",
    "y_pred"
   ]
  },
  {
   "cell_type": "code",
   "execution_count": 140,
   "id": "lesbian-practice",
   "metadata": {},
   "outputs": [],
   "source": [
    "#Obtenemos la media y covarianza de estos con:\n",
    "\n",
    "medias = gmm.means_\n",
    "covarianzas = gmm.covariances_"
   ]
  },
  {
   "cell_type": "markdown",
   "id": "lucky-highway",
   "metadata": {},
   "source": [
    "Código para samplear de un cluster en particular"
   ]
  },
  {
   "cell_type": "code",
   "execution_count": 145,
   "id": "suspected-commons",
   "metadata": {},
   "outputs": [
    {
     "name": "stdout",
     "output_type": "stream",
     "text": [
      "[array([-0.39512161,  2.42176661, -0.96525881,  2.43956148,  2.3940479 ,\n",
      "       -3.09792476]), array([ 1.52148555,  0.42594154,  7.6306297 , -6.18589942, -1.0386634 ,\n",
      "        3.1890387 ]), array([ 4.51930969, -1.95474091,  0.22436647,  3.91353908,  2.88138472,\n",
      "       -8.4316041 ]), array([  9.6911365 ,  -6.42776407, -11.49833674,   8.33964948,\n",
      "       -11.27331902,   7.26647237]), array([-1.90778881, -8.15045877, -3.10150264,  3.35810907, -8.53361058,\n",
      "        4.10742957]), array([-2.36365863, -3.26346989, -8.62120715, -4.8182304 ,  6.50388457,\n",
      "        9.41764433]), array([-8.16542699, -2.59453653, -0.64110702,  3.35793987,  0.10557676,\n",
      "       -1.60501254]), array([ 4.92340737,  4.63841553, -0.45298975,  3.56238238,  0.71972362,\n",
      "       -6.48618951]), array([-6.5667336 , -5.33248375,  6.63545738, -2.30365648, -2.11054931,\n",
      "       -1.90308811]), array([-2.89213535, -0.52902935, -3.35189862, -1.48546047,  2.78258668,\n",
      "        0.20606785])]\n"
     ]
    }
   ],
   "source": [
    "samples = []\n",
    "\n",
    "for s in range(10):\n",
    "    sample = np.random.multivariate_normal(medias[s],covarianzas[s])\n",
    "    samples.append(sample)\n",
    "\n",
    "print(samples)"
   ]
  },
  {
   "cell_type": "markdown",
   "id": "fuzzy-aurora",
   "metadata": {},
   "source": [
    "# Parte 3: Comparación PCA/Autoencoder en base a samples"
   ]
  },
  {
   "cell_type": "markdown",
   "id": "increased-shepherd",
   "metadata": {},
   "source": [
    "Analiza visualmente dos samples de cada clase (toma dos samples de cada clase, decodifica, des-estandariza y grafica como mostramos en la parte de datos)"
   ]
  },
  {
   "cell_type": "code",
   "execution_count": 148,
   "id": "interesting-packaging",
   "metadata": {},
   "outputs": [],
   "source": [
    "twosamples = []\n",
    "twosamples.append(samples[0])\n",
    "twosamples.append(samples[1])"
   ]
  },
  {
   "cell_type": "markdown",
   "id": "figured-integer",
   "metadata": {},
   "source": [
    "Analiza visualmente la meda"
   ]
  },
  {
   "cell_type": "code",
   "execution_count": null,
   "id": "theoretical-tourism",
   "metadata": {},
   "outputs": [],
   "source": []
  },
  {
   "cell_type": "markdown",
   "id": "approximate-branch",
   "metadata": {},
   "source": [
    "¿qué clústeres parece entregar consistentemente prendas de un tipo en específico? ¿qué prendas son?"
   ]
  },
  {
   "cell_type": "code",
   "execution_count": null,
   "id": "scientific-genre",
   "metadata": {},
   "outputs": [],
   "source": []
  },
  {
   "cell_type": "markdown",
   "id": "rapid-listing",
   "metadata": {},
   "source": [
    "Entrena un clasificador de randomforest con los datos originales. "
   ]
  },
  {
   "cell_type": "code",
   "execution_count": null,
   "id": "adaptive-steam",
   "metadata": {},
   "outputs": [],
   "source": []
  },
  {
   "cell_type": "markdown",
   "id": "selected-patch",
   "metadata": {},
   "source": [
    "Samplea y decodifica 50 ejemplos de cada cluster identificado por GMM, y entrégaselos al randomforest. Ahora ve los resultados de las predicciones. Vé si son consistentes en el sentido de que predicen que una buena cantidad de los ejemplos de los dos clústeres que identificaste son de una prenda en particular. "
   ]
  },
  {
   "cell_type": "code",
   "execution_count": null,
   "id": "according-lotus",
   "metadata": {},
   "outputs": [],
   "source": []
  }
 ],
 "metadata": {
  "kernelspec": {
   "display_name": "Python 3",
   "language": "python",
   "name": "python3"
  },
  "language_info": {
   "codemirror_mode": {
    "name": "ipython",
    "version": 3
   },
   "file_extension": ".py",
   "mimetype": "text/x-python",
   "name": "python",
   "nbconvert_exporter": "python",
   "pygments_lexer": "ipython3",
   "version": "3.6.8"
  }
 },
 "nbformat": 4,
 "nbformat_minor": 5
}
